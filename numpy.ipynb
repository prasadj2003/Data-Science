{
 "cells": [
  {
   "cell_type": "markdown",
   "metadata": {},
   "source": [
    "#### create a list 100,000 salaries ranging from 50,000 to 150,000 "
   ]
  },
  {
   "cell_type": "code",
   "execution_count": 4,
   "metadata": {},
   "outputs": [],
   "source": [
    "import random\n",
    "salary_list = [random.randint(50000, 150000) for _ in range(1000000)]"
   ]
  },
  {
   "cell_type": "code",
   "execution_count": 7,
   "metadata": {},
   "outputs": [],
   "source": [
    "import statistics"
   ]
  },
  {
   "cell_type": "code",
   "execution_count": 8,
   "metadata": {},
   "outputs": [
    {
     "name": "stdout",
     "output_type": "stream",
     "text": [
      "216 ms ± 962 μs per loop (mean ± std. dev. of 7 runs, 1 loop each)\n"
     ]
    }
   ],
   "source": [
    "%%timeit\n",
    "\n",
    "statistics.mean(salary_list)"
   ]
  },
  {
   "cell_type": "code",
   "execution_count": 9,
   "metadata": {},
   "outputs": [],
   "source": [
    "import numpy as np\n"
   ]
  },
  {
   "cell_type": "code",
   "execution_count": 10,
   "metadata": {},
   "outputs": [
    {
     "name": "stdout",
     "output_type": "stream",
     "text": [
      "53.3 ms ± 3.3 ms per loop (mean ± std. dev. of 7 runs, 10 loops each)\n"
     ]
    }
   ],
   "source": [
    "%%timeit\n",
    "np.mean(salary_list)"
   ]
  },
  {
   "cell_type": "markdown",
   "metadata": {},
   "source": [
    "#### numpy array"
   ]
  },
  {
   "cell_type": "code",
   "execution_count": 11,
   "metadata": {},
   "outputs": [],
   "source": [
    "arr = np.array([1,2,3,4,5,6])"
   ]
  },
  {
   "cell_type": "code",
   "execution_count": 12,
   "metadata": {},
   "outputs": [
    {
     "data": {
      "text/plain": [
       "np.float64(3.5)"
      ]
     },
     "execution_count": 12,
     "metadata": {},
     "output_type": "execute_result"
    }
   ],
   "source": [
    "arr.mean()"
   ]
  },
  {
   "cell_type": "markdown",
   "metadata": {},
   "source": [
    "#### array computation"
   ]
  },
  {
   "cell_type": "code",
   "execution_count": 13,
   "metadata": {},
   "outputs": [],
   "source": [
    "# job titles\n",
    "job_titles = np.array(['Data Analyst', 'Full stack developer', 'Data engineer'])\n",
    "\n",
    "# base salaries\n",
    "base_salaries = np.array([90000, 120000, 89000])\n",
    "\n",
    "# bonus rates\n",
    "bonus_rates = np.array([.05, .1, .08])"
   ]
  },
  {
   "cell_type": "code",
   "execution_count": 21,
   "metadata": {},
   "outputs": [
    {
     "name": "stdout",
     "output_type": "stream",
     "text": [
      "mean is: 107540.0\n"
     ]
    }
   ],
   "source": [
    "total_salaries = base_salaries * (1+bonus_rates)\n",
    "total_salaries\n",
    "mean_salary = np.mean(total_salaries)\n",
    "print(f\"mean is: {mean_salary}\")"
   ]
  },
  {
   "cell_type": "markdown",
   "metadata": {},
   "source": [
    "### The None keyword in Python is used to define a null value, or no value at all.\n",
    "### ⚠️ use np.nan when some value is not known, prevents typeError. and use np.nanmean method "
   ]
  },
  {
   "cell_type": "markdown",
   "metadata": {},
   "source": [
    "#### Arithematic operations"
   ]
  },
  {
   "cell_type": "code",
   "execution_count": 23,
   "metadata": {},
   "outputs": [],
   "source": [
    "v = np.array([89,6,55,3,145,78])\n",
    "cumulative_sum = np.cumsum(v)\n",
    "cumulative_product = np.cumprod(v)\n",
    "## It includes all the standard operation like np.sum, np.prod, np.sqrt, np.exp, np.log, np.sin etc."
   ]
  },
  {
   "cell_type": "markdown",
   "metadata": {},
   "source": [
    "#### Statistical operations"
   ]
  },
  {
   "cell_type": "markdown",
   "metadata": {},
   "source": [
    "mean, median, var -> variance, std -> std. deviation, min, max"
   ]
  },
  {
   "cell_type": "markdown",
   "metadata": {},
   "source": [
    "#### Random Sampling\n",
    "### `np.random.normal`\n",
    "The `np.random.normal` function draws random samples from a normal (Gaussian) distribution.\n",
    "\n",
    "#### Arguments:\n",
    "- **`loc`**: This is the mean (μ) of the normal distribution.\n",
    "- **`scale`**: This is the standard deviation (σ) of the normal distribution, representing the dispersion from the mean.\n",
    "- **`size`**: This defines the number of random samples to draw, which is set to match the number of job postings.\n",
    "\n",
    "#### Syntax:\n",
    "```python\n",
    "np.random.normal(loc=0.0, scale=1.0, size=None)\n",
    "\n",
    "np.random.rand\n",
    "Generates random samples from a uniform distribution over [0, 1).\n",
    "\n",
    "np.random.randn\n",
    "Generates samples from a standard normal distribution (mean=0, std=1).\n",
    "np.random.randint\n",
    "\n",
    "Draws random integers from a specified range.\n",
    "Syntax: np.random.randint(low, high=None, size=None)\n",
    "\n",
    "np.random.random\n",
    "Generates random floats in the interval [0.0, 1.0).\n",
    "\n",
    "np.random.uniform\n",
    "Draws random samples from a uniform distribution within a specified range.\n",
    "Syntax: np.random.uniform(low=0.0, high=1.0, size=None)\n",
    "\n",
    "np.random.binomial\n",
    "Generates samples from a binomial distribution.\n",
    "\n",
    "np.random.poisson\n",
    "Draws samples from a Poisson distribution.\n",
    "```"
   ]
  }
 ],
 "metadata": {
  "kernelspec": {
   "display_name": "Python 3",
   "language": "python",
   "name": "python3"
  },
  "language_info": {
   "codemirror_mode": {
    "name": "ipython",
    "version": 3
   },
   "file_extension": ".py",
   "mimetype": "text/x-python",
   "name": "python",
   "nbconvert_exporter": "python",
   "pygments_lexer": "ipython3",
   "version": "3.12.8"
  }
 },
 "nbformat": 4,
 "nbformat_minor": 2
}
